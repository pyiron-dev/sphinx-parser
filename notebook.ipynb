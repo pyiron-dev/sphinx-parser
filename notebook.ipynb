{
 "cells": [
  {
   "cell_type": "code",
   "execution_count": 1,
   "id": "1db01eb7-b529-4cc4-9e8f-6c5e1d730aa0",
   "metadata": {},
   "outputs": [],
   "source": [
    "import numpy as np\n",
    "from ase.build import bulk\n",
    "import os"
   ]
  },
  {
   "cell_type": "code",
   "execution_count": 2,
   "id": "4e6caa94-8f2c-453c-b598-bf72396d3f83",
   "metadata": {},
   "outputs": [],
   "source": [
    "from sphinx_parser.input import sphinx\n",
    "from sphinx_parser.ase import get_structure_group\n",
    "from sphinx_parser.toolkit import to_sphinx\n",
    "from sphinx_parser.potential import get_paw_from_structure\n",
    "from sphinx_parser.output import collect_energy_dat"
   ]
  },
  {
   "cell_type": "code",
   "execution_count": 3,
   "id": "840657f2-e61f-48bc-8b38-debbbdca5c32",
   "metadata": {},
   "outputs": [],
   "source": [
    "cwd = \"new\"\n",
    "# cwd.mkdir(exist_ok=True)\n",
    "if not os.path.exists(cwd):\n",
    "    os.mkdir(cwd)"
   ]
  },
  {
   "cell_type": "code",
   "execution_count": 4,
   "id": "9ada0d5b-5918-4c41-9fab-d3f54ed8b21c",
   "metadata": {},
   "outputs": [],
   "source": [
    "structure = bulk(\"Al\", cubic=True)"
   ]
  },
  {
   "cell_type": "code",
   "execution_count": 5,
   "id": "28da4c98-7fe0-4ded-913e-bb1d6fa435bb",
   "metadata": {},
   "outputs": [],
   "source": [
    "struct_group = get_structure_group(structure)\n",
    "main_group = sphinx.main.create(scfDiag=sphinx.main.scfDiag.create(maxSteps=10, blockCCG={}))\n",
    "pawPot_group = get_paw_from_structure(structure)\n",
    "basis_group = sphinx.basis.create(eCut=25, kPoint=sphinx.basis.kPoint.create(coords=3 * [0.5]))\n",
    "paw_group = sphinx.PAWHamiltonian.create(xc=1, spinPolarized=False, ekt=0.2)\n",
    "initial_guess_group = sphinx.initialGuess.create(\n",
    "    waves=sphinx.initialGuess.waves.create(lcao=sphinx.initialGuess.waves.lcao.create()), rho=sphinx.initialGuess.rho.create(atomicOrbitals=True)\n",
    ")\n",
    "\n",
    "input_sx = sphinx.create(\n",
    "    pawPot=pawPot_group, structure=struct_group, main=main_group, basis=basis_group, PAWHamiltonian=paw_group, initialGuess=initial_guess_group\n",
    ")"
   ]
  },
  {
   "cell_type": "code",
   "execution_count": 6,
   "id": "6e78c2cf-ccd8-4a74-9acf-d5916bc0a494",
   "metadata": {},
   "outputs": [
    {
     "data": {
      "text/plain": [
       "['format paw;',\n",
       " '',\n",
       " \"structure = ({'cell': array([[7.65339081, 0.        , 0.        ],\",\n",
       " '       [0.        , 7.65339081, 0.        ],',\n",
       " '       [0.        , 0.        , 7.65339081]]), \\'species\\': {\\'element\\': \\'\"Al\"\\', \\'atom\\': {\\'coords\\': array([0., 0., 0.]), \\'label\\': \\'\"spin_0.0\"\\', \\'movable\\': True}, \\'atom___0\\': {\\'coords\\': array([0.       , 3.8266954, 3.8266954]), \\'label\\': \\'\"spin_0.0\"\\', \\'movable\\': True}, \\'atom___1\\': {\\'coords\\': array([3.8266954, 0.       , 3.8266954]), \\'label\\': \\'\"spin_0.0\"\\', \\'movable\\': True}, \\'atom___2\\': {\\'coords\\': array([3.8266954, 3.8266954, 0.       ]), \\'label\\': \\'\"spin_0.0\"\\', \\'movable\\': True}}}, None);',\n",
       " 'basis {',\n",
       " '\\teCut = 25;',\n",
       " '\\tkPoint {',\n",
       " '\\t\\tcoords = [0.5, 0.5, 0.5];',\n",
       " '\\t}',\n",
       " '}',\n",
       " 'pawPot {',\n",
       " '\\tspecies {',\n",
       " '\\t\\tpotential = \"/home/jan/mambaforge/share/sphinxdft/jth-gga-pbe/Al_GGA.atomicdata\";',\n",
       " '\\t\\tpotType = \"AtomPAW\";',\n",
       " '\\t\\telement = \"Al\";',\n",
       " '\\t}',\n",
       " '}',\n",
       " 'PAWHamiltonian {',\n",
       " '\\txc = 1;',\n",
       " '\\tekt = 0.2;',\n",
       " '}',\n",
       " 'initialGuess {',\n",
       " '\\twaves {',\n",
       " '\\t\\tlcao {}',\n",
       " '\\t}',\n",
       " '\\trho {',\n",
       " '\\t\\tatomicOrbitals = true;',\n",
       " '\\t}',\n",
       " '}',\n",
       " 'main {',\n",
       " '\\tscfDiag {',\n",
       " '\\t\\tmaxSteps = 10;',\n",
       " '\\t\\tblockCCG {}',\n",
       " '\\t}',\n",
       " '}',\n",
       " '']"
      ]
     },
     "execution_count": 6,
     "metadata": {},
     "output_type": "execute_result"
    }
   ],
   "source": [
    "to_sphinx(input_sx).split(\"\\n\")"
   ]
  },
  {
   "cell_type": "code",
   "execution_count": 7,
   "id": "a9bff384-1d4a-4517-8212-73913a6de7ff",
   "metadata": {},
   "outputs": [],
   "source": [
    "with open(os.path.join(cwd, \"input.sx\"), \"w\") as f:\n",
    "    f.write(to_sphinx(input_sx))"
   ]
  },
  {
   "cell_type": "code",
   "execution_count": 8,
   "id": "d05458c1-a8e0-4be2-a092-e2804d0c0007",
   "metadata": {},
   "outputs": [],
   "source": [
    "import subprocess\n",
    "command = [\"sphinx\"]\n",
    "process = subprocess.Popen(command, stdout=subprocess.PIPE, stderr=subprocess.PIPE, text=True, cwd=cwd)\n",
    "stdout, stderr = process.communicate()"
   ]
  },
  {
   "cell_type": "code",
   "execution_count": 9,
   "id": "bf2a375f-00eb-473d-96e3-a922b72174d5",
   "metadata": {},
   "outputs": [
    {
     "data": {
      "text/plain": [
       "(['',\n",
       "  '',\n",
       "  '',\n",
       "  '',\n",
       "  '',\n",
       "  '                               ....................,.',\n",
       "  '                             .JGp`````````````` `++dMMa,',\n",
       "  '                          .JYjdMN.``````````````` i+dpdNm.',\n",
       "  '                        .d9.JMVdNBY?`` ```````` `!!++?0dJW,',\n",
       "  \"                       .B'.MEOdMM` ```````` `` ```?!?;?+Nc?h,\",\n",
       "  '                     .J^ .MEuMMY5` ` ..uuY= ``.TMMMNSxc++z++?o',\n",
       "  '                    .D  .MBdMBYYh,` ````````.qHMH9MMIO3++jg+&Jx',\n",
       "  '                   d%` .MEzM8O.+? `` ..++!`?M8ttttOZZzI`jMSuVHJ;',\n",
       "  '                  J^ `.M8OdNOz .M`````````   `..,?TMNOv.MMKOHNv`',\n",
       "  '                 J! `.M8ltwNOdMH%``````` ``?!`...`?77? .MNMNmg2',\n",
       "  '                J!``.JEOttlOZMMO.  ` ```..J&ggsO?++I.   `MMHY98',\n",
       "  '               J!`` JNOOtttOUm:..... +vTMHY993.++1zOzdxMNmV;` .T,',\n",
       "  '              `` ` .M6OtlltOvMNMNMNv` ``` `....?+OOtzdldU9zO.+,tX.`',\n",
       "  '             ,``  .MBttltttttOdMM0O:` ``` ``````++tOv^ ````?1JAsd,',\n",
       "  '            J``` .MEtlltltlltZwMMZtO.```` +??;;++1?!  ` ...,;zTMMd,',\n",
       "  '           .^ ` .dMOtttttltlttwMMZtO:`....&+HHHBBB5.`TYY=`??lqgMNI4.',\n",
       "  '          .%...?+vHSxOOtltttltwMMROdTYUY=!``.```` ..````7WQmgVHNS&.b',\n",
       "  '         .KJ+?+;tMMadTNsltttltdNMEti. .Iz&++;;?;??;+..``..1VMMMNaJJJr',\n",
       "  '         d6gMMD?zdNWMMSxHmylttMM9``!!``.Otltttlzzzzzzzzzz&&dgMNNJ.J+r',\n",
       "  '        JNMM! .jOtMNOZTMNNWNmdMM!``` ...tlttltttltlltttOUTMMMN8+..,7r',\n",
       "  '       .MMMS+.ttttzMNOOI?TMNTMM5 ````1OOZOtlttttttlttttOttttHMgH?7T3r',\n",
       "  '       .WMMktltltltdMIv+;;+?T1?++: ``` tOtZUUUU9U9TMMMSxgAQgMNAx;++.u',\n",
       "  '         WMNtOgmttttdI?+??` .JMNe+,````?tOtttltltttttZwNMNMMMItO7=TQg,',\n",
       "  '         JMMMMMNt;?tOlvz+;.```MNM!```````?1lttttllttlOMNMM8Oltttzz+..r',\n",
       "  '         .MB1MMEv! .!jzzzz! ` ,BY````````` ?+1tlttOOGdMMMmAAggeAyO+.,`',\n",
       "  '          ! JM8!```` mztOt;````` ``````````.?;ztlttdMMMMNmgAOttwONm+J',\n",
       "  '           .M3``````,M6tzz``.`` Jg,.``````` i+1ttttdMMMMSxggAsyttzqF',\n",
       "  '          .M! ````` JBT=^````` ?N+J.,```````.+?zttzdMMMMNNHmgmdW9TH;',\n",
       "  '         .M3??!``  .N2``````` .,HMNMF ````````?+ztttdNMMMNzlttltVVM;',\n",
       "  '        .H6++!!``` ^` ``````` ...+J+JJ+..``````?;1OtOVHMMMMNxlttzzdF',\n",
       "  '       ,=  ``````` ..........   ?17HMMMNm+ `````???zttlttVHMMNmOttdF',\n",
       "  '    dY```...+ggmmWMWYYY7=````?7777TYYT=7zC``` ??;;?;1tttltttZTMMNwdF',\n",
       "  '    j+J+QgHYY=!`..`` ````` ?7MNmo.. ..J++... ```?+;??+zttltttOzOZWMH,.',\n",
       "  '    MMB=` ....?++! ```` .uXUHMHMMMMMMMMMMMMSxo. `` `!+;1zOtlltttttOOVWH..',\n",
       "  '',\n",
       "  '+-----------------------------------------------------------------------------',\n",
       "  '|                            S / P H I / n X',\n",
       "  '+-----------------------------------------------------------------------------',\n",
       "  '|',\n",
       "  '|                 The ab-initio based multiscale library',\n",
       "  '|',\n",
       "  '|       www:      https://sxrepo.mpie.de',\n",
       "  '|       contact:  Christoph Freysoldt, freysoldt@mpie.de',\n",
       "  '|',\n",
       "  '+-----------------------------------------------------------------------------',\n",
       "  '',\n",
       "  \"Illegal character '{' in ./input.sx:3.\",\n",
       "  ''],\n",
       " ['',\n",
       "  '+-----------------------------------------------------------------------------',\n",
       "  '| Abnormal program stop in file /home/c.freysoldt/devel/sphinx/src/io2/SxParser.lpp at line 346.',\n",
       "  '+-----------------------------------------------------------------------------',\n",
       "  ''])"
      ]
     },
     "execution_count": 9,
     "metadata": {},
     "output_type": "execute_result"
    }
   ],
   "source": [
    "stdout.split(\"\\n\"), stderr.split(\"\\n\")"
   ]
  },
  {
   "cell_type": "code",
   "execution_count": 10,
   "id": "c96eb67b-524c-46b6-aad8-6eddd7449456",
   "metadata": {},
   "outputs": [
    {
     "name": "stderr",
     "output_type": "stream",
     "text": [
      "/home/jan/mambaforge/lib/python3.12/site-packages/sphinx_parser/output.py:167: SyntaxWarning: invalid escape sequence '\\d'\n",
      "  n_steps = max(len(re.findall(\"// --- step \\d\", file_content, re.MULTILINE)), 1)\n",
      "/home/jan/mambaforge/lib/python3.12/site-packages/sphinx_parser/output.py:283: SyntaxWarning: invalid escape sequence '\\|'\n",
      "  \"-ik-     -x-      -y-       -z-    \\|  -weight-    -nG-    -label-\",\n",
      "/home/jan/mambaforge/lib/python3.12/site-packages/sphinx_parser/output.py:319: SyntaxWarning: invalid escape sequence '\\('\n",
      "  for line in re.findall(\"F\\(.*$\", self.log_main, re.MULTILINE)\n",
      "/home/jan/mambaforge/lib/python3.12/site-packages/sphinx_parser/output.py:336: SyntaxWarning: invalid escape sequence '\\{'\n",
      "  np.unique(re.findall(\"^Species.*\\{\", self.log_main, re.MULTILINE))\n",
      "/home/jan/mambaforge/lib/python3.12/site-packages/sphinx_parser/output.py:345: SyntaxWarning: invalid escape sequence '\\.'\n",
      "  str_fl = \"([-+]?[0-9]*\\.?[0-9]+(?:[eE][-+]?[0-9]+)?)\"\n",
      "/home/jan/mambaforge/lib/python3.12/site-packages/sphinx_parser/output.py:363: SyntaxWarning: invalid escape sequence '\\('\n",
      "  for line in re.findall(\"^nu\\(.*$\", self.log_main, re.MULTILINE)\n",
      "/home/jan/mambaforge/lib/python3.12/site-packages/sphinx_parser/output.py:374: SyntaxWarning: invalid escape sequence '\\|'\n",
      "  return len(re.findall(\"\\| SCF calculation\", self.log_file, re.MULTILINE))\n",
      "/home/jan/mambaforge/lib/python3.12/site-packages/sphinx_parser/output.py:387: SyntaxWarning: invalid escape sequence '\\['\n",
      "  return self._parse_band(\"final eig \\[eV\\]:(.*)$\")\n",
      "/home/jan/mambaforge/lib/python3.12/site-packages/sphinx_parser/output.py:397: SyntaxWarning: invalid escape sequence '\\.'\n",
      "  key = \"|\".join(list(conv_dict.keys())).replace(\".\", \"\\.\")\n"
     ]
    },
    {
     "ename": "FileNotFoundError",
     "evalue": "new/energy.dat not found.",
     "output_type": "error",
     "traceback": [
      "\u001b[0;31m---------------------------------------------------------------------------\u001b[0m",
      "\u001b[0;31mFileNotFoundError\u001b[0m                         Traceback (most recent call last)",
      "Cell \u001b[0;32mIn[10], line 1\u001b[0m\n\u001b[0;32m----> 1\u001b[0m \u001b[43mcollect_energy_dat\u001b[49m\u001b[43m(\u001b[49m\u001b[43mos\u001b[49m\u001b[38;5;241;43m.\u001b[39;49m\u001b[43mpath\u001b[49m\u001b[38;5;241;43m.\u001b[39;49m\u001b[43mjoin\u001b[49m\u001b[43m(\u001b[49m\u001b[43mcwd\u001b[49m\u001b[43m,\u001b[49m\u001b[43m \u001b[49m\u001b[38;5;124;43m\"\u001b[39;49m\u001b[38;5;124;43menergy.dat\u001b[39;49m\u001b[38;5;124;43m\"\u001b[39;49m\u001b[43m)\u001b[49m\u001b[43m)\u001b[49m\n",
      "File \u001b[0;32m~/mambaforge/lib/python3.12/site-packages/sphinx_parser/output.py:35\u001b[0m, in \u001b[0;36mcollect_energy_dat\u001b[0;34m(file_name, cwd)\u001b[0m\n\u001b[1;32m     33\u001b[0m \u001b[38;5;28;01mif\u001b[39;00m cwd \u001b[38;5;129;01mis\u001b[39;00m \u001b[38;5;129;01mnot\u001b[39;00m \u001b[38;5;28;01mNone\u001b[39;00m:\n\u001b[1;32m     34\u001b[0m     path \u001b[38;5;241m=\u001b[39m Path(cwd) \u001b[38;5;241m/\u001b[39m path\n\u001b[0;32m---> 35\u001b[0m energies \u001b[38;5;241m=\u001b[39m \u001b[43mnp\u001b[49m\u001b[38;5;241;43m.\u001b[39;49m\u001b[43mloadtxt\u001b[49m\u001b[43m(\u001b[49m\u001b[38;5;28;43mstr\u001b[39;49m\u001b[43m(\u001b[49m\u001b[43mpath\u001b[49m\u001b[43m)\u001b[49m\u001b[43m,\u001b[49m\u001b[43m \u001b[49m\u001b[43mndmin\u001b[49m\u001b[38;5;241;43m=\u001b[39;49m\u001b[38;5;241;43m2\u001b[39;49m\u001b[43m)\u001b[49m\n\u001b[1;32m     36\u001b[0m results \u001b[38;5;241m=\u001b[39m {\u001b[38;5;124m\"\u001b[39m\u001b[38;5;124mscf_computation_time\u001b[39m\u001b[38;5;124m\"\u001b[39m: _splitter(energies[:, \u001b[38;5;241m1\u001b[39m], energies[:, \u001b[38;5;241m0\u001b[39m])}\n\u001b[1;32m     37\u001b[0m results[\u001b[38;5;124m\"\u001b[39m\u001b[38;5;124mscf_energy_int\u001b[39m\u001b[38;5;124m\"\u001b[39m] \u001b[38;5;241m=\u001b[39m _splitter(energies[:, \u001b[38;5;241m2\u001b[39m], energies[:, \u001b[38;5;241m0\u001b[39m])\n",
      "File \u001b[0;32m~/mambaforge/lib/python3.12/site-packages/numpy/lib/npyio.py:1373\u001b[0m, in \u001b[0;36mloadtxt\u001b[0;34m(fname, dtype, comments, delimiter, converters, skiprows, usecols, unpack, ndmin, encoding, max_rows, quotechar, like)\u001b[0m\n\u001b[1;32m   1370\u001b[0m \u001b[38;5;28;01mif\u001b[39;00m \u001b[38;5;28misinstance\u001b[39m(delimiter, \u001b[38;5;28mbytes\u001b[39m):\n\u001b[1;32m   1371\u001b[0m     delimiter \u001b[38;5;241m=\u001b[39m delimiter\u001b[38;5;241m.\u001b[39mdecode(\u001b[38;5;124m'\u001b[39m\u001b[38;5;124mlatin1\u001b[39m\u001b[38;5;124m'\u001b[39m)\n\u001b[0;32m-> 1373\u001b[0m arr \u001b[38;5;241m=\u001b[39m \u001b[43m_read\u001b[49m\u001b[43m(\u001b[49m\u001b[43mfname\u001b[49m\u001b[43m,\u001b[49m\u001b[43m \u001b[49m\u001b[43mdtype\u001b[49m\u001b[38;5;241;43m=\u001b[39;49m\u001b[43mdtype\u001b[49m\u001b[43m,\u001b[49m\u001b[43m \u001b[49m\u001b[43mcomment\u001b[49m\u001b[38;5;241;43m=\u001b[39;49m\u001b[43mcomment\u001b[49m\u001b[43m,\u001b[49m\u001b[43m \u001b[49m\u001b[43mdelimiter\u001b[49m\u001b[38;5;241;43m=\u001b[39;49m\u001b[43mdelimiter\u001b[49m\u001b[43m,\u001b[49m\n\u001b[1;32m   1374\u001b[0m \u001b[43m            \u001b[49m\u001b[43mconverters\u001b[49m\u001b[38;5;241;43m=\u001b[39;49m\u001b[43mconverters\u001b[49m\u001b[43m,\u001b[49m\u001b[43m \u001b[49m\u001b[43mskiplines\u001b[49m\u001b[38;5;241;43m=\u001b[39;49m\u001b[43mskiprows\u001b[49m\u001b[43m,\u001b[49m\u001b[43m \u001b[49m\u001b[43musecols\u001b[49m\u001b[38;5;241;43m=\u001b[39;49m\u001b[43musecols\u001b[49m\u001b[43m,\u001b[49m\n\u001b[1;32m   1375\u001b[0m \u001b[43m            \u001b[49m\u001b[43munpack\u001b[49m\u001b[38;5;241;43m=\u001b[39;49m\u001b[43munpack\u001b[49m\u001b[43m,\u001b[49m\u001b[43m \u001b[49m\u001b[43mndmin\u001b[49m\u001b[38;5;241;43m=\u001b[39;49m\u001b[43mndmin\u001b[49m\u001b[43m,\u001b[49m\u001b[43m \u001b[49m\u001b[43mencoding\u001b[49m\u001b[38;5;241;43m=\u001b[39;49m\u001b[43mencoding\u001b[49m\u001b[43m,\u001b[49m\n\u001b[1;32m   1376\u001b[0m \u001b[43m            \u001b[49m\u001b[43mmax_rows\u001b[49m\u001b[38;5;241;43m=\u001b[39;49m\u001b[43mmax_rows\u001b[49m\u001b[43m,\u001b[49m\u001b[43m \u001b[49m\u001b[43mquote\u001b[49m\u001b[38;5;241;43m=\u001b[39;49m\u001b[43mquotechar\u001b[49m\u001b[43m)\u001b[49m\n\u001b[1;32m   1378\u001b[0m \u001b[38;5;28;01mreturn\u001b[39;00m arr\n",
      "File \u001b[0;32m~/mambaforge/lib/python3.12/site-packages/numpy/lib/npyio.py:992\u001b[0m, in \u001b[0;36m_read\u001b[0;34m(fname, delimiter, comment, quote, imaginary_unit, usecols, skiplines, max_rows, converters, ndmin, unpack, dtype, encoding)\u001b[0m\n\u001b[1;32m    990\u001b[0m     fname \u001b[38;5;241m=\u001b[39m os\u001b[38;5;241m.\u001b[39mfspath(fname)\n\u001b[1;32m    991\u001b[0m \u001b[38;5;28;01mif\u001b[39;00m \u001b[38;5;28misinstance\u001b[39m(fname, \u001b[38;5;28mstr\u001b[39m):\n\u001b[0;32m--> 992\u001b[0m     fh \u001b[38;5;241m=\u001b[39m \u001b[43mnp\u001b[49m\u001b[38;5;241;43m.\u001b[39;49m\u001b[43mlib\u001b[49m\u001b[38;5;241;43m.\u001b[39;49m\u001b[43m_datasource\u001b[49m\u001b[38;5;241;43m.\u001b[39;49m\u001b[43mopen\u001b[49m\u001b[43m(\u001b[49m\u001b[43mfname\u001b[49m\u001b[43m,\u001b[49m\u001b[43m \u001b[49m\u001b[38;5;124;43m'\u001b[39;49m\u001b[38;5;124;43mrt\u001b[39;49m\u001b[38;5;124;43m'\u001b[39;49m\u001b[43m,\u001b[49m\u001b[43m \u001b[49m\u001b[43mencoding\u001b[49m\u001b[38;5;241;43m=\u001b[39;49m\u001b[43mencoding\u001b[49m\u001b[43m)\u001b[49m\n\u001b[1;32m    993\u001b[0m     \u001b[38;5;28;01mif\u001b[39;00m encoding \u001b[38;5;129;01mis\u001b[39;00m \u001b[38;5;28;01mNone\u001b[39;00m:\n\u001b[1;32m    994\u001b[0m         encoding \u001b[38;5;241m=\u001b[39m \u001b[38;5;28mgetattr\u001b[39m(fh, \u001b[38;5;124m'\u001b[39m\u001b[38;5;124mencoding\u001b[39m\u001b[38;5;124m'\u001b[39m, \u001b[38;5;124m'\u001b[39m\u001b[38;5;124mlatin1\u001b[39m\u001b[38;5;124m'\u001b[39m)\n",
      "File \u001b[0;32m~/mambaforge/lib/python3.12/site-packages/numpy/lib/_datasource.py:193\u001b[0m, in \u001b[0;36mopen\u001b[0;34m(path, mode, destpath, encoding, newline)\u001b[0m\n\u001b[1;32m    156\u001b[0m \u001b[38;5;250m\u001b[39m\u001b[38;5;124;03m\"\"\"\u001b[39;00m\n\u001b[1;32m    157\u001b[0m \u001b[38;5;124;03mOpen `path` with `mode` and return the file object.\u001b[39;00m\n\u001b[1;32m    158\u001b[0m \n\u001b[0;32m   (...)\u001b[0m\n\u001b[1;32m    189\u001b[0m \n\u001b[1;32m    190\u001b[0m \u001b[38;5;124;03m\"\"\"\u001b[39;00m\n\u001b[1;32m    192\u001b[0m ds \u001b[38;5;241m=\u001b[39m DataSource(destpath)\n\u001b[0;32m--> 193\u001b[0m \u001b[38;5;28;01mreturn\u001b[39;00m \u001b[43mds\u001b[49m\u001b[38;5;241;43m.\u001b[39;49m\u001b[43mopen\u001b[49m\u001b[43m(\u001b[49m\u001b[43mpath\u001b[49m\u001b[43m,\u001b[49m\u001b[43m \u001b[49m\u001b[43mmode\u001b[49m\u001b[43m,\u001b[49m\u001b[43m \u001b[49m\u001b[43mencoding\u001b[49m\u001b[38;5;241;43m=\u001b[39;49m\u001b[43mencoding\u001b[49m\u001b[43m,\u001b[49m\u001b[43m \u001b[49m\u001b[43mnewline\u001b[49m\u001b[38;5;241;43m=\u001b[39;49m\u001b[43mnewline\u001b[49m\u001b[43m)\u001b[49m\n",
      "File \u001b[0;32m~/mambaforge/lib/python3.12/site-packages/numpy/lib/_datasource.py:533\u001b[0m, in \u001b[0;36mDataSource.open\u001b[0;34m(self, path, mode, encoding, newline)\u001b[0m\n\u001b[1;32m    530\u001b[0m     \u001b[38;5;28;01mreturn\u001b[39;00m _file_openers[ext](found, mode\u001b[38;5;241m=\u001b[39mmode,\n\u001b[1;32m    531\u001b[0m                               encoding\u001b[38;5;241m=\u001b[39mencoding, newline\u001b[38;5;241m=\u001b[39mnewline)\n\u001b[1;32m    532\u001b[0m \u001b[38;5;28;01melse\u001b[39;00m:\n\u001b[0;32m--> 533\u001b[0m     \u001b[38;5;28;01mraise\u001b[39;00m \u001b[38;5;167;01mFileNotFoundError\u001b[39;00m(\u001b[38;5;124mf\u001b[39m\u001b[38;5;124m\"\u001b[39m\u001b[38;5;132;01m{\u001b[39;00mpath\u001b[38;5;132;01m}\u001b[39;00m\u001b[38;5;124m not found.\u001b[39m\u001b[38;5;124m\"\u001b[39m)\n",
      "\u001b[0;31mFileNotFoundError\u001b[0m: new/energy.dat not found."
     ]
    }
   ],
   "source": [
    "collect_energy_dat(os.path.join(cwd, \"energy.dat\"))"
   ]
  },
  {
   "cell_type": "code",
   "execution_count": null,
   "id": "440740ab-bb34-4859-b293-136c3397c8b9",
   "metadata": {},
   "outputs": [],
   "source": []
  }
 ],
 "metadata": {
  "kernelspec": {
   "display_name": "Python 3 (ipykernel)",
   "language": "python",
   "name": "python3"
  },
  "language_info": {
   "codemirror_mode": {
    "name": "ipython",
    "version": 3
   },
   "file_extension": ".py",
   "mimetype": "text/x-python",
   "name": "python",
   "nbconvert_exporter": "python",
   "pygments_lexer": "ipython3",
   "version": "3.12.5"
  }
 },
 "nbformat": 4,
 "nbformat_minor": 5
}
